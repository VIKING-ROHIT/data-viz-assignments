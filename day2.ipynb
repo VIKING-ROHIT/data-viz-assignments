{
 "cells": [
  {
   "cell_type": "code",
   "execution_count": null,
   "id": "e3bd6eb2",
   "metadata": {},
   "outputs": [],
   "source": [
    "import matplotlib.pyplot as plt\n",
    "import numpy as np\n",
    "import pandas as pd\n",
    "import seaborn as sns \n",
    "import random\n",
    "from numpy.random import randn,randint,uniform,sample"
   ]
  },
  {
   "cell_type": "code",
   "execution_count": null,
   "id": "dccfb8df",
   "metadata": {},
   "outputs": [],
   "source": [
    "fg = pd.DataFrame(randn(10,4),columns=[\"A\",'B',\"c\",'D'])\n",
    "plt.hist(fg[\"A\"],label=\"A\",alpha=0.8,bins=15)\n",
    "plt.hist(fg[\"B\"],label=\"B\",alpha=0.8,bins=15)\n",
    "plt.hist(fg[\"c\"],label='C',alpha=0.8,bins=15)\n",
    "plt.hist(fg['D'],label=\"D\",alpha=0.8,bins=15)\n",
    "plt.legend(shadow=True)\n",
    "plt.title('histogram')\n",
    "\n"
   ]
  },
  {
   "cell_type": "code",
   "execution_count": null,
   "id": "a64b58ef",
   "metadata": {},
   "outputs": [],
   "source": []
  }
 ],
 "metadata": {
  "kernelspec": {
   "display_name": "Python 3",
   "language": "python",
   "name": "python3"
  },
  "language_info": {
   "codemirror_mode": {
    "name": "ipython",
    "version": 3
   },
   "file_extension": ".py",
   "mimetype": "text/x-python",
   "name": "python",
   "nbconvert_exporter": "python",
   "pygments_lexer": "ipython3",
   "version": "3.9.1"
  }
 },
 "nbformat": 4,
 "nbformat_minor": 5
}
