{
 "cells": [
  {
   "cell_type": "code",
   "execution_count": null,
   "id": "8f0023b2",
   "metadata": {},
   "outputs": [],
   "source": [
    "import numpy as np\n",
    "import pandas as pd\n",
    "import matplotlib.pyplot as plt\n",
    "import seaborn as sns "
   ]
  },
  {
   "cell_type": "code",
   "execution_count": null,
   "id": "b65b2453",
   "metadata": {},
   "outputs": [],
   "source": [
    "fmri=sns.load_dataset('fmri')\n",
    "fmri.head(5)\n",
    "sns.relplot(x='timepoint',y='signal',data=fmri,hue='region',style='event')"
   ]
  },
  {
   "cell_type": "code",
   "execution_count": null,
   "id": "6d29e5bb",
   "metadata": {},
   "outputs": [],
   "source": []
  }
 ],
 "metadata": {
  "kernelspec": {
   "display_name": "Python 3",
   "language": "python",
   "name": "python3"
  },
  "language_info": {
   "codemirror_mode": {
    "name": "ipython",
    "version": 3
   },
   "file_extension": ".py",
   "mimetype": "text/x-python",
   "name": "python",
   "nbconvert_exporter": "python",
   "pygments_lexer": "ipython3",
   "version": "3.9.1"
  }
 },
 "nbformat": 4,
 "nbformat_minor": 5
}
